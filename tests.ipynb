{
 "cells": [
  {
   "cell_type": "code",
   "execution_count": 1,
   "metadata": {},
   "outputs": [
    {
     "name": "stderr",
     "output_type": "stream",
     "text": [
      "d:\\Nirmal\\XVoice\\Xvoice_venv\\Lib\\site-packages\\requests\\__init__.py:86: RequestsDependencyWarning: Unable to find acceptable character detection dependency (chardet or charset_normalizer).\n",
      "  warnings.warn(\n"
     ]
    }
   ],
   "source": [
    "from pathlib import Path\n",
    "import torch\n",
    "import torch.nn as nn\n",
    "from config import get_config, get_weights_file_path\n",
    "from train import get_model, get_ds, run_validation"
   ]
  },
  {
   "cell_type": "code",
   "execution_count": 2,
   "metadata": {},
   "outputs": [
    {
     "name": "stdout",
     "output_type": "stream",
     "text": [
      "Using device: cuda\n",
      "Max length of source sentence : 167\n",
      "\n",
      "Max length of target sentence : 139\n",
      "\n"
     ]
    }
   ],
   "source": [
    "# Define the device\n",
    "device = torch.device('cuda' if torch.cuda.is_available() else 'cpu')\n",
    "print(f\"Using device: {device}\")\n",
    "config = get_config()\n",
    "train_dataloader, val_dataloader, tokenizer_src, tokenizer_tgt = get_ds(config)\n",
    "model = get_model(config, tokenizer_src.get_vocab_size(), tokenizer_tgt.get_vocab_size()).to(device)\n",
    "\n"
   ]
  },
  {
   "cell_type": "code",
   "execution_count": 5,
   "metadata": {},
   "outputs": [
    {
     "data": {
      "text/plain": [
       "<All keys matched successfully>"
      ]
     },
     "execution_count": 5,
     "metadata": {},
     "output_type": "execute_result"
    }
   ],
   "source": [
    "# Load the pretrained weights\n",
    "model_filename = get_weights_file_path(config, f\"02\")\n",
    "state = torch.load(model_filename)\n",
    "model.load_state_dict(state['model_state_dict'])"
   ]
  },
  {
   "cell_type": "code",
   "execution_count": 6,
   "metadata": {},
   "outputs": [
    {
     "name": "stdout",
     "output_type": "stream",
     "text": [
      "--------------------------------------------------------------------------------\n",
      "    SOURCE: And then they're like, is this Chinese food?\n",
      "    TARGET: 또 그들 모두는 \"이거 중국 음식 맞나요?\"라고 물어봤습니다.\n",
      " PREDICTED: 그리고 그들은 ?\n",
      "--------------------------------------------------------------------------------\n",
      "    SOURCE: We're going to win because we don't play their dirty games.\n",
      "    TARGET: 우리가 그들의 지저분한 게임에 참여하지 않기 때문에 우리는 승리할 것입니다.\n",
      " PREDICTED: 우리는 그들이 때문에 게임을 .\n",
      "--------------------------------------------------------------------------------\n",
      "    SOURCE: After several weeks, they washed off the white and took on the full responsibilities of men.\n",
      "    TARGET: 몇주 후에 진흙을 씻어내고나면 한 사람의 책임감있는 남성으로서 인정받게 됩니다.\n",
      " PREDICTED: 몇 달 후에 , 그들은 .\n",
      "--------------------------------------------------------------------------------\n",
      "    SOURCE: And they did, and it brought me up to 2.0. (Laughter) Yep. (Laughter) (Applause) They said, \"It's good enough for government work.\n",
      "    TARGET: 행정부서에서 그렇게 했어요. 제 평점이 2.0으로 올라갔습니다. (웃음) 넵. (웃음) (손뼉) 그들이 말했죠. \"정부 일을 하기에 충분한 성적이야.\n",
      " PREDICTED: 그리고 그들은 . ( 웃음 ) ( 웃음 ) ( 웃음 ) ( 웃음 ) 그들은 \" \" 라고 말했습니다 .\n",
      "--------------------------------------------------------------------------------\n",
      "    SOURCE: Be water, my friend. (Applause) YR: This year, I am 32 years old, the same age Bruce Lee was when he died.\n",
      "    TARGET: 친구들이여, 물이 되세요. (박수) 유유: 올해에 저는 32살 입니다. 이소룡이 사망했을 때의 나이지요.\n",
      " PREDICTED: 제 친구 , . ( 박수 ) 이 남자는 . 저는 .\n",
      "--------------------------------------------------------------------------------\n",
      "    SOURCE: So I've said a number of times that we grow materials.\n",
      "    TARGET: 우리가 물질을 재배한다고 여러차례 말했습니다.\n",
      " PREDICTED: 그래서 저는 우리가 .\n",
      "--------------------------------------------------------------------------------\n",
      "    SOURCE: (Laughter) And this man, he has been outside, but he's gone back, and he was saying, \"You know, we have suddenly jumped into a whole new era, and we didn't even know about the white man 50 years ago, and now here we are with laptop computers, and there are some things we want to learn from the modern world.\n",
      "    TARGET: (웃음) 이 사람은 외부에서 지내다, 다시 이곳으로 돌아왔습니다. 그가 말하길 \"우리는 갑자기 완전히 새로운 세상으로 뛰어들었습니다. 50년 쯤 전엔 백인들에 대해서 알지도 못했던 저희가 이제는 랩탑을 가지고 있답니다. 그리고, 새로운 세상으로부터 배우고 싶은 것이 많습니다.\n",
      " PREDICTED: ( 웃음 ) 이 남자는 . 하지만 그는 . \" , , , , , , , , , , , , , , , , , , , .\n",
      "--------------------------------------------------------------------------------\n",
      "    SOURCE: So since then I've been the bridge, and a lot of people have walked over me.\n",
      "    TARGET: 그래서 그때부터 저는 다리 역할을 해 왔습니다. 그래서 많은 사람들이 제 위를 밟고 지나갔죠.\n",
      " PREDICTED: 그래서 저는 , 그리고 많은 사람들이 저를 .\n",
      "--------------------------------------------------------------------------------\n",
      "    SOURCE: The largest individuals of this species, the dreadnoughts of their kind, live just on the north coast of California, where the rain is really intense.\n",
      "    TARGET: 이 종의 나무 중에서도 특대급들은 캘리포니아의 북부해안에 자리잡고 있습니다. 비가 정말 많이 내리는 곳이죠.\n",
      " PREDICTED: 이 가장 큰 , .\n",
      "--------------------------------------------------------------------------------\n",
      "    SOURCE: Using this technology, the specialists at UCLA Medical Center were able to identify where that compression in the hose pipe was occurring.\n",
      "    TARGET: UCLA 병원의 전문가들은 이기술을 사용해 어디에서 혈관에 압력이 가해지고 있는지를 가려낼 수 있었습니다\n",
      " PREDICTED: 이 기술을 .\n",
      "--------------------------------------------------------------------------------\n"
     ]
    }
   ],
   "source": [
    "run_validation(model, val_dataloader, tokenizer_src, tokenizer_tgt, config['seq_len'], device, lambda msg: print(msg), 0, None, num_examples=10)\n"
   ]
  },
  {
   "cell_type": "code",
   "execution_count": null,
   "metadata": {},
   "outputs": [],
   "source": []
  },
  {
   "cell_type": "code",
   "execution_count": null,
   "metadata": {},
   "outputs": [],
   "source": []
  },
  {
   "cell_type": "code",
   "execution_count": null,
   "metadata": {},
   "outputs": [],
   "source": []
  },
  {
   "cell_type": "code",
   "execution_count": null,
   "metadata": {},
   "outputs": [],
   "source": []
  }
 ],
 "metadata": {
  "kernelspec": {
   "display_name": "Python 3",
   "language": "python",
   "name": "python3"
  },
  "language_info": {
   "codemirror_mode": {
    "name": "ipython",
    "version": 3
   },
   "file_extension": ".py",
   "mimetype": "text/x-python",
   "name": "python",
   "nbconvert_exporter": "python",
   "pygments_lexer": "ipython3",
   "version": "3.12.4"
  }
 },
 "nbformat": 4,
 "nbformat_minor": 2
}
