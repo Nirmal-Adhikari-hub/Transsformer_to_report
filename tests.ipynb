{
 "cells": [
  {
   "cell_type": "code",
   "execution_count": 1,
   "metadata": {},
   "outputs": [
    {
     "name": "stderr",
     "output_type": "stream",
     "text": [
      "d:\\Nirmal\\XVoice\\Xvoice_venv\\Lib\\site-packages\\requests\\__init__.py:86: RequestsDependencyWarning: Unable to find acceptable character detection dependency (chardet or charset_normalizer).\n",
      "  warnings.warn(\n"
     ]
    }
   ],
   "source": [
    "from pathlib import Path\n",
    "import torch\n",
    "import torch.nn as nn\n",
    "from config import get_config, get_weights_file_path\n",
    "from train import get_model, get_ds, run_validation"
   ]
  },
  {
   "cell_type": "code",
   "execution_count": 2,
   "metadata": {},
   "outputs": [
    {
     "name": "stdout",
     "output_type": "stream",
     "text": [
      "Using device: cuda\n",
      "Max length of source sentence : 167\n",
      "\n",
      "Max length of target sentence : 139\n",
      "\n"
     ]
    }
   ],
   "source": [
    "# Define the device\n",
    "device = torch.device('cuda' if torch.cuda.is_available() else 'cpu')\n",
    "print(f\"Using device: {device}\")\n",
    "config = get_config()\n",
    "train_dataloader, val_dataloader, tokenizer_src, tokenizer_tgt = get_ds(config)\n",
    "model = get_model(config, tokenizer_src.get_vocab_size(), tokenizer_tgt.get_vocab_size()).to(device)\n",
    "\n"
   ]
  },
  {
   "cell_type": "code",
   "execution_count": 3,
   "metadata": {},
   "outputs": [
    {
     "data": {
      "text/plain": [
       "<All keys matched successfully>"
      ]
     },
     "execution_count": 3,
     "metadata": {},
     "output_type": "execute_result"
    }
   ],
   "source": [
    "# Load the pretrained weights\n",
    "model_filename = get_weights_file_path(config, f\"09\")\n",
    "state = torch.load(model_filename)\n",
    "model.load_state_dict(state['model_state_dict'])"
   ]
  },
  {
   "cell_type": "code",
   "execution_count": 4,
   "metadata": {},
   "outputs": [
    {
     "name": "stdout",
     "output_type": "stream",
     "text": [
      "--------------------------------------------------------------------------------\n",
      "    SOURCE: So, what is going on?\n",
      "    TARGET: 왜 이런 현상이 일어나는 것일까요?\n",
      " PREDICTED: , , , , , , , , , , , , , , , , , , , , , , , 만드는 , , , , 더\n",
      "--------------------------------------------------------------------------------\n",
      "    SOURCE: So, we built a model that explains where those fields might have been.\n",
      "    TARGET: 그래서 이런 밭의 위치를 보여주는 모델을 만들고.더 이상\n",
      " PREDICTED: , , , , , , , , , , , , , , , , , , , , , , , 만드는 , , , , .\n",
      "--------------------------------------------------------------------------------\n",
      "    SOURCE: Now this society has no central authority.\n",
      "    TARGET: 이 사회에는 중앙집중식 권력이 없습니다.\n",
      " PREDICTED: , , , , , , , , , , , , , , , , , , , , , , , 만드는 , , , , .\n",
      "--------------------------------------------------------------------------------\n",
      "    SOURCE: What time is it? What time is it?\n",
      "    TARGET: 지금 몇 시 인가요? 몇신지 아십니까?\n",
      " PREDICTED: , , , , , , , , , , , , , , , , , , , , , , , 만드는 , , , , .\n",
      "--------------------------------------------------------------------------------\n",
      "    SOURCE: Oooh. Hmm. Too funny.\n",
      "    TARGET: 어. 음. 지나치게 웃겨.\n",
      " PREDICTED: , , , , , , , , , , , , , , , , , , , , , , , 만드는 , , , , .\n",
      "--------------------------------------------------------------------------------\n",
      "    SOURCE: It's being resolved at the level of items, or ideas, or words, if you want.\n",
      "    TARGET: 아이템, 아이디어 혹은 단어 수준에서 연결되는 거죠.\n",
      " PREDICTED: , , , , , , , , , , , , , , , , , , , , , , , 만드는 , , , , .\n",
      "--------------------------------------------------------------------------------\n",
      "    SOURCE: CA: King of diamonds. LG: Ah!\n",
      "    TARGET: 킹다이아몬드./ 아!\n",
      " PREDICTED: , , , , , , , , , , , , , , , , , , , , , , , 자 , , , , .\n",
      "--------------------------------------------------------------------------------\n",
      "    SOURCE: It's not -- glamour is not something -- you don't wake up in the morning glamorous. I don't care who you are.\n",
      "    TARGET: 매력은 대단한 것이 아닙니다. 여러분이 아침에 일어날 때 매력적인 모습은 아닙니다. 여러분이 누구든지 상관없습니다.\n",
      " PREDICTED: , , , , , , , , , , , , , , , , , , , , , , , , , , , .\n",
      "--------------------------------------------------------------------------------\n",
      "    SOURCE: True guilt arises only from an offense against a person, and a Down's is not a person.\"\n",
      "    TARGET: 진정한 죄책감은 사람에 대해 범죄를 저질렀을 때 나타나는 것이고 다운 증후군 환자는 사람이 아니다.\"\n",
      " PREDICTED: , , , , , , , , , , , , , , , , , , , , , , , , , , , .\n",
      "--------------------------------------------------------------------------------\n",
      "    SOURCE: We're already preventing millions of deaths with existing vaccines, and if we get these to more people, we can certainly save more lives.\n",
      "    TARGET: 우리는 이미 존재하는 백신들로 몇 백만의 죽음을 방지하고 있습니다. 그리고 만약 이것들을 더 많은 사람들에게 준다면 우리는 확실히 더 많은 생명을 살릴 수 있습니다.\n",
      " PREDICTED: , , , , , , , , , , , , , , , , , , , , , , , 만드는 , , , , .\n",
      "--------------------------------------------------------------------------------\n"
     ]
    }
   ],
   "source": [
    "run_validation(model, val_dataloader, tokenizer_src, tokenizer_tgt, config['seq_len'], device, lambda msg: print(msg), 0, None, num_examples=10)\n"
   ]
  },
  {
   "cell_type": "code",
   "execution_count": null,
   "metadata": {},
   "outputs": [],
   "source": []
  },
  {
   "cell_type": "markdown",
   "metadata": {},
   "source": []
  },
  {
   "cell_type": "code",
   "execution_count": null,
   "metadata": {},
   "outputs": [],
   "source": []
  },
  {
   "cell_type": "code",
   "execution_count": null,
   "metadata": {},
   "outputs": [],
   "source": []
  },
  {
   "cell_type": "code",
   "execution_count": null,
   "metadata": {},
   "outputs": [],
   "source": []
  },
  {
   "cell_type": "code",
   "execution_count": null,
   "metadata": {},
   "outputs": [],
   "source": []
  }
 ],
 "metadata": {
  "kernelspec": {
   "display_name": "Python 3",
   "language": "python",
   "name": "python3"
  },
  "language_info": {
   "codemirror_mode": {
    "name": "ipython",
    "version": 3
   },
   "file_extension": ".py",
   "mimetype": "text/x-python",
   "name": "python",
   "nbconvert_exporter": "python",
   "pygments_lexer": "ipython3",
   "version": "3.12.4"
  }
 },
 "nbformat": 4,
 "nbformat_minor": 2
}
